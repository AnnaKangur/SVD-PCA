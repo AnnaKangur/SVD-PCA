{
 "cells": [
  {
   "cell_type": "markdown",
   "id": "ee1e937d",
   "metadata": {},
   "source": [
    "# Рекомендательные системы на основе SVD алгоритма"
   ]
  },
  {
   "cell_type": "markdown",
   "id": "33925fba",
   "metadata": {},
   "source": [
    "**Collaborative Filtering** - подход, основанный на отношениях между пользователями и товаром, при этом нет никакой информации о пользователях или товарах. \n",
    "\n",
    "* Пример явного взаимодействия: рейтинг между пользователям и товарами.\n",
    "* Неявного: клик, просмотр или покупка не очевидны с точки зрения рейтинга.\n",
    "\n",
    "**User-item matrix** (матрица пользователь-товар) - это таблица, в которой каждая строка представляет собой пользователя, каждый столбец - товар, а каждая ячейка содержит информацию о взаимодействии между пользователем и товаром. Например, в ячейке может быть указано количество раз, которое пользователь купил товар, или оценка, которую пользователь поставил товару. User-item matrix используется в рекомендательных системах для определения предпочтений пользователей и предложения им наиболее подходящих товаров.\n",
    "\n",
    "Далее, $R$ - user-item matrix.\n",
    "\n",
    "**Singular Value Decomposition (SVD)** \n",
    "\n",
    "Можно применить [матричную факторизацию](https://translated.turbopages.org/proxy_u/en-ru.ru.0832cecd-64b5506e-d08cf623-74722d776562/https/en.wikipedia.org/wiki/Matrix_factorization_(recommender_systems)). Часто, матричная факторизация применяется в области уменьшения размерности, где мы пытаемся уменьшить количество элементов, сохраняя при этом соответсующую информацию. Так дело обстоит с [основным компонентным анализом (PCA)](https://ru.wikipedia.org/wiki/Метод_главных_компонент) и очень похожим [разложение по сингулярному значению (SVD)](https://ru.wikipedia.org/wiki/Сингулярное_разложение).\n",
    "\n",
    "$$R_{m \\times n} = U_{m \\times m} \\Sigma_{m \\times n} V^{T}_{n \\times n} $$\n",
    "\n",
    "где $\\Sigma$  — диагональная матрица с неотрицательными сингулярными числами, $U$ и $V$ - ортогональные матрицы и $U^T U = I$.\n",
    "\n",
    "При этом, матрица $R$ - очень большая и разряженная. \n",
    "\n",
    "**Метод главных компонент ([principal component analysis (PSA)](https://ru.wikipedia.org/wiki/Метод_главных_компонент))** — один из основных способов уменьшить размерность данных, потеряв наименьшее количество информации. \n",
    "Вычисление главных компонент может быть сведено к вычислению SVD разложения матрицы данных или к вычислению собственных векторов и собственных значений ковариационной матрицы исходных данных. \n",
    "\n",
    "Математическое содержание метода главных компонент — это SVD разложение ковариационной матрицы $R$, то есть представление пространства данных в виде суммы взаимно ортогональных собственных подпространств $R$, а самой матрицы $R$ — в виде линейной комбинации ортогональных проекторов на эти подпространства с коэффициентами $\\lambda_i$. \n",
    "\n",
    "Оставив $d$-первых (главных) компонент ($\\lambda_i$) в SVD разложении, получим наиболее точное приближение к $R$ по норме Фробениуса.  \n",
    " \n",
    "$ R_{m \\times n} = P_{m \\times n} Q_{n \\times n} $\n",
    "\n",
    "$ P = S_{m \\times m} V_{m \\times n} $ \n",
    "\n",
    "$ Q = D^{T}_{n \\times n} $\n",
    "\n",
    "$P$ и $Q$ - взаимно ортогональные собственные подпространства $R$.\n",
    "\n",
    "Тогда $i$-aя строка $U$ - это представление $i$-го пльзователя, а $j$-ый столбец $V$ - представленте $j$-го товара. Их отношение (рейтинг) выражается с помощью скалярного произведения:\n",
    "\n",
    "$$R[i][j] = \\langle U[i, :], V[:, j] \\rangle $$\n",
    "\n",
    "Матрицы $U$ и $Q$ найдем с помощью градиентного спуска. \n",
    "\n",
    "В качестве $Loss$ возьмем $RMSE$:\n",
    "\n",
    "$$ \n",
    "    RMSE = \\frac{1}{\\lvert D \\rvert} \\sum_{(i,j) \\in D} (\\hat{R}_{i, j} - R_{i, j})^2 = \n",
    "    \\frac{1}{\\lvert D \\rvert} \\sum_{(i, j) \\in D} (P_{i} \\cdot Q_{j} - R_{i, j})^2\n",
    "$$\n",
    "\n",
    "Посчитав градиенты по $P$ и по $Q$, получим формулы обновления весов:\n",
    "\n",
    "<!-- $\\nabla RMSE_p = \\frac{d}{dp}RMSE = \\frac{1}{\\lvert D \\rvert} \\cdot 2 \\cdot \\sum_{(u,m) \\in D} (\\hat{r}_{u,m} - r_{u,m}) \\cdot q $\n",
    "\n",
    "$ \\nabla RMSE_q = \\frac{d}{dq}RMSE = \\frac{1}{\\lvert D \\rvert} \\cdot 2 \\cdot \\sum_{(u,m) \\in D} (\\hat{r}_{u,m} - r_{u,m}) \\cdot p $ -->\n",
    "\n",
    "$\\begin{cases}\n",
    "    P[i][k] = P[i][k] - \\frac{2}{\\lvert D \\rvert} \\cdot \\sum_{(i,j) \\in D} (\\hat{R}_{i,j} - R_{i,j}) \\cdot Q[k][i]\n",
    "    \\\\\n",
    "    Q[k][i] = Q[k][i] - \\frac{2}{\\lvert D \\rvert} \\cdot \\sum_{(i,j) \\in D} (\\hat{R}_{i,j} - R_{i,j}) \\cdot P[i][k]\n",
    "\\end{cases}\n",
    "\\text{   ,   } k \\in {1, d} $"
   ]
  },
  {
   "cell_type": "code",
   "execution_count": 1,
   "id": "43e972a2",
   "metadata": {},
   "outputs": [],
   "source": [
    "import numpy as np\n",
    "import pandas as pd\n",
    "%matplotlib inline"
   ]
  },
  {
   "cell_type": "code",
   "execution_count": 2,
   "id": "48c3dfff",
   "metadata": {},
   "outputs": [],
   "source": [
    "k = 10 # максимальная оценка\n",
    "\n",
    "movies = ['Фантазия', 'ВАЛЛ-И', 'Пиноккио', 'Бемби' , 'Шрэк', 'Дамбо', 'Спасатели', 'Геркулес', 'Кунг-фу Панда', 'Карлсон']\n",
    "m_movies = len(movies)\n",
    "\n",
    "users = ['Андрей', 'Аня', 'Алиса', 'Ваня', 'Леша', 'Оксана', 'Саша', 'Паша', 'Сеня', 'Гриша']        \n",
    "n_users = len(users)\n",
    "\n",
    "RANDOMSEED = 42\n",
    "np.random.seed(42)\n",
    "\n",
    "N = np.random.randint(15, 40)\n",
    "ind_movies = [np.random.randint(0, m_movies) for _ in range(N)]\n",
    "ind_users = [np.random.randint(0, n_users) for _ in range(N)]\n",
    "rating = [np.random.randint(1, k) for _ in range(N)]"
   ]
  },
  {
   "cell_type": "code",
   "execution_count": 3,
   "id": "f4329391",
   "metadata": {},
   "outputs": [
    {
     "data": {
      "text/plain": [
       "[3, 7, 4, 6, 9, 2, 6, 7, 4, 3, 7, 7, 2, 5, 4, 1, 7, 5, 1, 4, 0]"
      ]
     },
     "execution_count": 3,
     "metadata": {},
     "output_type": "execute_result"
    }
   ],
   "source": [
    "ind_movies"
   ]
  },
  {
   "cell_type": "code",
   "execution_count": 4,
   "id": "ea867201",
   "metadata": {},
   "outputs": [
    {
     "data": {
      "text/plain": [
       "[9, 5, 8, 0, 9, 2, 6, 3, 8, 2, 4, 2, 6, 4, 8, 6, 1, 3, 8, 1, 9]"
      ]
     },
     "execution_count": 4,
     "metadata": {},
     "output_type": "execute_result"
    }
   ],
   "source": [
    "ind_users"
   ]
  },
  {
   "cell_type": "code",
   "execution_count": 5,
   "id": "8a5b20a4",
   "metadata": {},
   "outputs": [
    {
     "data": {
      "text/plain": [
       "[9, 5, 2, 4, 7, 8, 3, 1, 4, 2, 8, 4, 2, 6, 6, 4, 6, 2, 2, 4, 8]"
      ]
     },
     "execution_count": 5,
     "metadata": {},
     "output_type": "execute_result"
    }
   ],
   "source": [
    "rating"
   ]
  },
  {
   "cell_type": "code",
   "execution_count": 6,
   "id": "1611e507",
   "metadata": {
    "scrolled": true
   },
   "outputs": [
    {
     "data": {
      "text/html": [
       "<div>\n",
       "<style scoped>\n",
       "    .dataframe tbody tr th:only-of-type {\n",
       "        vertical-align: middle;\n",
       "    }\n",
       "\n",
       "    .dataframe tbody tr th {\n",
       "        vertical-align: top;\n",
       "    }\n",
       "\n",
       "    .dataframe thead th {\n",
       "        text-align: right;\n",
       "    }\n",
       "</style>\n",
       "<table border=\"1\" class=\"dataframe\">\n",
       "  <thead>\n",
       "    <tr style=\"text-align: right;\">\n",
       "      <th></th>\n",
       "      <th>Андрей</th>\n",
       "      <th>Аня</th>\n",
       "      <th>Алиса</th>\n",
       "      <th>Ваня</th>\n",
       "      <th>Леша</th>\n",
       "      <th>Оксана</th>\n",
       "      <th>Саша</th>\n",
       "      <th>Паша</th>\n",
       "      <th>Сеня</th>\n",
       "      <th>Гриша</th>\n",
       "    </tr>\n",
       "  </thead>\n",
       "  <tbody>\n",
       "    <tr>\n",
       "      <th>Фантазия</th>\n",
       "      <td>0</td>\n",
       "      <td>0</td>\n",
       "      <td>0</td>\n",
       "      <td>0</td>\n",
       "      <td>0</td>\n",
       "      <td>0</td>\n",
       "      <td>4</td>\n",
       "      <td>0</td>\n",
       "      <td>0</td>\n",
       "      <td>0</td>\n",
       "    </tr>\n",
       "    <tr>\n",
       "      <th>ВАЛЛ-И</th>\n",
       "      <td>0</td>\n",
       "      <td>0</td>\n",
       "      <td>0</td>\n",
       "      <td>0</td>\n",
       "      <td>4</td>\n",
       "      <td>0</td>\n",
       "      <td>0</td>\n",
       "      <td>6</td>\n",
       "      <td>0</td>\n",
       "      <td>0</td>\n",
       "    </tr>\n",
       "    <tr>\n",
       "      <th>Пиноккио</th>\n",
       "      <td>0</td>\n",
       "      <td>0</td>\n",
       "      <td>8</td>\n",
       "      <td>2</td>\n",
       "      <td>0</td>\n",
       "      <td>0</td>\n",
       "      <td>0</td>\n",
       "      <td>4</td>\n",
       "      <td>0</td>\n",
       "      <td>0</td>\n",
       "    </tr>\n",
       "    <tr>\n",
       "      <th>Бемби</th>\n",
       "      <td>0</td>\n",
       "      <td>0</td>\n",
       "      <td>0</td>\n",
       "      <td>0</td>\n",
       "      <td>0</td>\n",
       "      <td>2</td>\n",
       "      <td>0</td>\n",
       "      <td>1</td>\n",
       "      <td>0</td>\n",
       "      <td>0</td>\n",
       "    </tr>\n",
       "    <tr>\n",
       "      <th>Шрэк</th>\n",
       "      <td>0</td>\n",
       "      <td>0</td>\n",
       "      <td>0</td>\n",
       "      <td>0</td>\n",
       "      <td>0</td>\n",
       "      <td>6</td>\n",
       "      <td>0</td>\n",
       "      <td>8</td>\n",
       "      <td>0</td>\n",
       "      <td>0</td>\n",
       "    </tr>\n",
       "    <tr>\n",
       "      <th>Дамбо</th>\n",
       "      <td>0</td>\n",
       "      <td>0</td>\n",
       "      <td>0</td>\n",
       "      <td>0</td>\n",
       "      <td>0</td>\n",
       "      <td>0</td>\n",
       "      <td>0</td>\n",
       "      <td>5</td>\n",
       "      <td>0</td>\n",
       "      <td>0</td>\n",
       "    </tr>\n",
       "    <tr>\n",
       "      <th>Спасатели</th>\n",
       "      <td>0</td>\n",
       "      <td>4</td>\n",
       "      <td>2</td>\n",
       "      <td>0</td>\n",
       "      <td>0</td>\n",
       "      <td>0</td>\n",
       "      <td>3</td>\n",
       "      <td>0</td>\n",
       "      <td>0</td>\n",
       "      <td>0</td>\n",
       "    </tr>\n",
       "    <tr>\n",
       "      <th>Геркулес</th>\n",
       "      <td>0</td>\n",
       "      <td>0</td>\n",
       "      <td>0</td>\n",
       "      <td>0</td>\n",
       "      <td>0</td>\n",
       "      <td>0</td>\n",
       "      <td>0</td>\n",
       "      <td>0</td>\n",
       "      <td>0</td>\n",
       "      <td>0</td>\n",
       "    </tr>\n",
       "    <tr>\n",
       "      <th>Кунг-фу Панда</th>\n",
       "      <td>0</td>\n",
       "      <td>2</td>\n",
       "      <td>0</td>\n",
       "      <td>0</td>\n",
       "      <td>6</td>\n",
       "      <td>0</td>\n",
       "      <td>0</td>\n",
       "      <td>0</td>\n",
       "      <td>0</td>\n",
       "      <td>0</td>\n",
       "    </tr>\n",
       "    <tr>\n",
       "      <th>Карлсон</th>\n",
       "      <td>8</td>\n",
       "      <td>0</td>\n",
       "      <td>0</td>\n",
       "      <td>9</td>\n",
       "      <td>0</td>\n",
       "      <td>0</td>\n",
       "      <td>0</td>\n",
       "      <td>0</td>\n",
       "      <td>0</td>\n",
       "      <td>7</td>\n",
       "    </tr>\n",
       "  </tbody>\n",
       "</table>\n",
       "</div>"
      ],
      "text/plain": [
       "               Андрей  Аня  Алиса  Ваня  Леша  Оксана  Саша  Паша  Сеня  Гриша\n",
       "Фантазия            0    0      0     0     0       0     4     0     0      0\n",
       "ВАЛЛ-И              0    0      0     0     4       0     0     6     0      0\n",
       "Пиноккио            0    0      8     2     0       0     0     4     0      0\n",
       "Бемби               0    0      0     0     0       2     0     1     0      0\n",
       "Шрэк                0    0      0     0     0       6     0     8     0      0\n",
       "Дамбо               0    0      0     0     0       0     0     5     0      0\n",
       "Спасатели           0    4      2     0     0       0     3     0     0      0\n",
       "Геркулес            0    0      0     0     0       0     0     0     0      0\n",
       "Кунг-фу Панда       0    2      0     0     6       0     0     0     0      0\n",
       "Карлсон             8    0      0     9     0       0     0     0     0      7"
      ]
     },
     "execution_count": 6,
     "metadata": {},
     "output_type": "execute_result"
    }
   ],
   "source": [
    "def get_user_item_matrix(n_users, m_movies, ind_users, ind_movies, rating):\n",
    "    R = [[0] * m_movies for _ in range(n_users)]\n",
    "    N = len(ind_users)\n",
    "    for i in range(N):\n",
    "        R[ind_users[i]][ind_movies[i]] = rating[i]\n",
    "    R = np.array(R)\n",
    "    return R\n",
    "\n",
    "R = get_user_item_matrix(n_users, m_movies, ind_users, ind_movies, rating)\n",
    "\n",
    "pd.DataFrame(R, movies, users)"
   ]
  },
  {
   "cell_type": "markdown",
   "id": "fac13d97",
   "metadata": {},
   "source": [
    "$$L = \\frac{1}{N} \\cdot \\sum(r - \\het r)^2$$"
   ]
  },
  {
   "cell_type": "code",
   "execution_count": 7,
   "id": "b71dc45b",
   "metadata": {},
   "outputs": [],
   "source": [
    "def MSE(R, U, V):\n",
    "    mse = 0\n",
    "    for ind in range(N):\n",
    "        i = ind_users[ind]\n",
    "        j = ind_movies[ind]\n",
    "        mse += ( R[i][j] - np.dot(U[i,:], V[:,j]) )**2 / N\n",
    "    return mse"
   ]
  },
  {
   "cell_type": "code",
   "execution_count": 8,
   "id": "86384f8a",
   "metadata": {},
   "outputs": [],
   "source": [
    "def SVD(ind_users, ind_movies, R, d, step, n_iters):\n",
    "    \n",
    "    # инициализация матриц разложения\n",
    "    U = np.random.rand(R.shape[0], d)\n",
    "    V = np.random.rand(d, R.shape[1])\n",
    "\n",
    "    start_mse = MSE(R, U, V)\n",
    "    \n",
    "    for n in range(n_iters):\n",
    "        ind = np.random.randint(0, N)\n",
    "        i = ind_users[ind]\n",
    "        j = ind_movies[ind]\n",
    "        \n",
    "        for k in range(0, d):\n",
    "            U[i, k] = U[i, k] + step * (R[i][j] - np.dot(U[i, :], V[:, j])) * V[k, j] \n",
    "            V[k, j] = V[k, j] + step * (R[i][j] - np.dot(U[i, :], V[:, j])) * U[i, k] \n",
    "\n",
    "        mse = MSE(R, U, V)\n",
    "    return U, V, start_mse, mse"
   ]
  },
  {
   "cell_type": "code",
   "execution_count": 9,
   "id": "c5eb529b",
   "metadata": {},
   "outputs": [],
   "source": [
    "U, V, start_mse, mse = SVD(ind_users, ind_movies, R, 3, 0.1, 3000) "
   ]
  },
  {
   "cell_type": "code",
   "execution_count": 10,
   "id": "36cc6185",
   "metadata": {},
   "outputs": [
    {
     "data": {
      "text/plain": [
       "array([[ 1.14925335,  0.88815964,  1.28628278],\n",
       "       [ 0.57882653,  1.94198177,  0.69771869],\n",
       "       [ 2.53474404,  0.56804522, -0.93485506],\n",
       "       [ 0.3704904 , -0.16867209,  1.05388538],\n",
       "       [ 1.55206751,  2.16957811,  0.85723033],\n",
       "       [ 1.33365791,  1.18894038,  0.42200087],\n",
       "       [-0.97242016,  0.72281182,  2.01041876],\n",
       "       [ 0.92630088,  0.65107703,  0.91495968],\n",
       "       [ 2.15831628,  0.66739268,  0.06101079],\n",
       "       [ 3.4193753 ,  1.93082125,  2.14906612]])"
      ]
     },
     "execution_count": 10,
     "metadata": {},
     "output_type": "execute_result"
    }
   ],
   "source": [
    "U"
   ]
  },
  {
   "cell_type": "code",
   "execution_count": 11,
   "id": "07c3bb6a",
   "metadata": {},
   "outputs": [
    {
     "data": {
      "text/plain": [
       "array([[ 1.13902333,  0.49589526,  3.13577084,  1.51022004,  2.43299874,\n",
       "         1.61478736,  0.90118881,  1.35917061,  0.25606832,  0.58638664],\n",
       "       [ 1.20469557,  1.22963668,  2.65392918, -0.11313503,  1.04946214,\n",
       "         1.02028505,  1.13741072,  2.37850328,  0.13933145,  1.34705423],\n",
       "       [ 0.82791748,  1.78740018,  1.55738422,  1.88647772,  0.7935608 ,\n",
       "         1.49336078,  1.5191865 ,  0.85172746,  0.10549426,  1.11397325]])"
      ]
     },
     "execution_count": 11,
     "metadata": {},
     "output_type": "execute_result"
    }
   ],
   "source": [
    "V"
   ]
  },
  {
   "cell_type": "code",
   "execution_count": 12,
   "id": "0ec0e4be",
   "metadata": {},
   "outputs": [
    {
     "data": {
      "text/plain": [
       "0"
      ]
     },
     "execution_count": 12,
     "metadata": {},
     "output_type": "execute_result"
    }
   ],
   "source": [
    "R[1][2]"
   ]
  },
  {
   "cell_type": "code",
   "execution_count": 13,
   "id": "d831c254",
   "metadata": {},
   "outputs": [
    {
     "data": {
      "text/plain": [
       "8.055565517055356"
      ]
     },
     "execution_count": 13,
     "metadata": {},
     "output_type": "execute_result"
    }
   ],
   "source": [
    "np.dot(U[1,:], V[:,2])"
   ]
  },
  {
   "cell_type": "code",
   "execution_count": 14,
   "id": "aa816e42",
   "metadata": {},
   "outputs": [
    {
     "data": {
      "text/plain": [
       "(21.37688033760675, 4.97897320664505e-09)"
      ]
     },
     "execution_count": 14,
     "metadata": {},
     "output_type": "execute_result"
    }
   ],
   "source": [
    "start_mse, mse"
   ]
  },
  {
   "cell_type": "code",
   "execution_count": 16,
   "id": "a2d4b15f",
   "metadata": {},
   "outputs": [
    {
     "data": {
      "text/plain": [
       "array([[ 3.440e+00,  3.960e+00,  7.960e+00,  4.060e+00,  4.750e+00,\n",
       "         4.680e+00,  4.000e+00,  4.770e+00,  5.500e-01,  3.300e+00],\n",
       "       [ 3.580e+00,  3.920e+00,  8.060e+00,  1.970e+00,  4.000e+00,\n",
       "         3.960e+00,  3.790e+00,  6.000e+00,  4.900e-01,  3.730e+00],\n",
       "       [ 2.800e+00,  2.800e-01,  8.000e+00,  2.000e+00,  6.020e+00,\n",
       "         3.280e+00,  1.510e+00,  4.000e+00,  6.300e-01,  1.210e+00],\n",
       "       [ 1.090e+00,  1.860e+00,  2.360e+00,  2.570e+00,  1.560e+00,\n",
       "         2.000e+00,  1.740e+00,  1.000e+00,  1.800e-01,  1.160e+00],\n",
       "       [ 5.090e+00,  4.970e+00,  1.196e+01,  3.720e+00,  6.730e+00,\n",
       "         6.000e+00,  5.170e+00,  8.000e+00,  7.900e-01,  4.790e+00],\n",
       "       [ 3.300e+00,  2.880e+00,  7.990e+00,  2.680e+00,  4.830e+00,\n",
       "         4.000e+00,  3.200e+00,  5.000e+00,  5.500e-01,  2.850e+00],\n",
       "       [ 1.430e+00,  4.000e+00,  2.000e+00,  2.240e+00, -1.000e-02,\n",
       "         2.170e+00,  3.000e+00,  2.110e+00,  6.000e-02,  2.640e+00],\n",
       "       [ 2.600e+00,  2.900e+00,  6.060e+00,  3.050e+00,  3.660e+00,\n",
       "         3.530e+00,  2.970e+00,  3.590e+00,  4.200e-01,  2.440e+00],\n",
       "       [ 3.310e+00,  2.000e+00,  8.630e+00,  3.300e+00,  6.000e+00,\n",
       "         4.260e+00,  2.800e+00,  4.570e+00,  6.500e-01,  2.230e+00],\n",
       "       [ 8.000e+00,  7.910e+00,  1.919e+01,  9.000e+00,  1.205e+01,\n",
       "         1.070e+01,  8.540e+00,  1.107e+01,  1.370e+00,  7.000e+00]])"
      ]
     },
     "execution_count": 16,
     "metadata": {},
     "output_type": "execute_result"
    }
   ],
   "source": [
    "cap_R = np.zeros((R.shape[0], R.shape[1]))\n",
    "\n",
    "for i in range(n_users):\n",
    "    for j in range(m_movies):\n",
    "        cap_R[i][j] = round(np.dot(U[i,:], V[:,j]), 2)\n",
    "cap_R"
   ]
  },
  {
   "cell_type": "code",
   "execution_count": 17,
   "id": "d292f96d",
   "metadata": {},
   "outputs": [
    {
     "data": {
      "text/html": [
       "<div>\n",
       "<style scoped>\n",
       "    .dataframe tbody tr th:only-of-type {\n",
       "        vertical-align: middle;\n",
       "    }\n",
       "\n",
       "    .dataframe tbody tr th {\n",
       "        vertical-align: top;\n",
       "    }\n",
       "\n",
       "    .dataframe thead th {\n",
       "        text-align: right;\n",
       "    }\n",
       "</style>\n",
       "<table border=\"1\" class=\"dataframe\">\n",
       "  <thead>\n",
       "    <tr style=\"text-align: right;\">\n",
       "      <th></th>\n",
       "      <th>Андрей</th>\n",
       "      <th>Аня</th>\n",
       "      <th>Алиса</th>\n",
       "      <th>Ваня</th>\n",
       "      <th>Леша</th>\n",
       "      <th>Оксана</th>\n",
       "      <th>Саша</th>\n",
       "      <th>Паша</th>\n",
       "      <th>Сеня</th>\n",
       "      <th>Гриша</th>\n",
       "    </tr>\n",
       "  </thead>\n",
       "  <tbody>\n",
       "    <tr>\n",
       "      <th>Фантазия</th>\n",
       "      <td>3.44</td>\n",
       "      <td>3.96</td>\n",
       "      <td>7.96</td>\n",
       "      <td>4.06</td>\n",
       "      <td>4.75</td>\n",
       "      <td>4.68</td>\n",
       "      <td>4.00</td>\n",
       "      <td>4.77</td>\n",
       "      <td>0.55</td>\n",
       "      <td>3.30</td>\n",
       "    </tr>\n",
       "    <tr>\n",
       "      <th>ВАЛЛ-И</th>\n",
       "      <td>3.58</td>\n",
       "      <td>3.92</td>\n",
       "      <td>8.06</td>\n",
       "      <td>1.97</td>\n",
       "      <td>4.00</td>\n",
       "      <td>3.96</td>\n",
       "      <td>3.79</td>\n",
       "      <td>6.00</td>\n",
       "      <td>0.49</td>\n",
       "      <td>3.73</td>\n",
       "    </tr>\n",
       "    <tr>\n",
       "      <th>Пиноккио</th>\n",
       "      <td>2.80</td>\n",
       "      <td>0.28</td>\n",
       "      <td>8.00</td>\n",
       "      <td>2.00</td>\n",
       "      <td>6.02</td>\n",
       "      <td>3.28</td>\n",
       "      <td>1.51</td>\n",
       "      <td>4.00</td>\n",
       "      <td>0.63</td>\n",
       "      <td>1.21</td>\n",
       "    </tr>\n",
       "    <tr>\n",
       "      <th>Бемби</th>\n",
       "      <td>1.09</td>\n",
       "      <td>1.86</td>\n",
       "      <td>2.36</td>\n",
       "      <td>2.57</td>\n",
       "      <td>1.56</td>\n",
       "      <td>2.00</td>\n",
       "      <td>1.74</td>\n",
       "      <td>1.00</td>\n",
       "      <td>0.18</td>\n",
       "      <td>1.16</td>\n",
       "    </tr>\n",
       "    <tr>\n",
       "      <th>Шрэк</th>\n",
       "      <td>5.09</td>\n",
       "      <td>4.97</td>\n",
       "      <td>11.96</td>\n",
       "      <td>3.72</td>\n",
       "      <td>6.73</td>\n",
       "      <td>6.00</td>\n",
       "      <td>5.17</td>\n",
       "      <td>8.00</td>\n",
       "      <td>0.79</td>\n",
       "      <td>4.79</td>\n",
       "    </tr>\n",
       "    <tr>\n",
       "      <th>Дамбо</th>\n",
       "      <td>3.30</td>\n",
       "      <td>2.88</td>\n",
       "      <td>7.99</td>\n",
       "      <td>2.68</td>\n",
       "      <td>4.83</td>\n",
       "      <td>4.00</td>\n",
       "      <td>3.20</td>\n",
       "      <td>5.00</td>\n",
       "      <td>0.55</td>\n",
       "      <td>2.85</td>\n",
       "    </tr>\n",
       "    <tr>\n",
       "      <th>Спасатели</th>\n",
       "      <td>1.43</td>\n",
       "      <td>4.00</td>\n",
       "      <td>2.00</td>\n",
       "      <td>2.24</td>\n",
       "      <td>-0.01</td>\n",
       "      <td>2.17</td>\n",
       "      <td>3.00</td>\n",
       "      <td>2.11</td>\n",
       "      <td>0.06</td>\n",
       "      <td>2.64</td>\n",
       "    </tr>\n",
       "    <tr>\n",
       "      <th>Геркулес</th>\n",
       "      <td>2.60</td>\n",
       "      <td>2.90</td>\n",
       "      <td>6.06</td>\n",
       "      <td>3.05</td>\n",
       "      <td>3.66</td>\n",
       "      <td>3.53</td>\n",
       "      <td>2.97</td>\n",
       "      <td>3.59</td>\n",
       "      <td>0.42</td>\n",
       "      <td>2.44</td>\n",
       "    </tr>\n",
       "    <tr>\n",
       "      <th>Кунг-фу Панда</th>\n",
       "      <td>3.31</td>\n",
       "      <td>2.00</td>\n",
       "      <td>8.63</td>\n",
       "      <td>3.30</td>\n",
       "      <td>6.00</td>\n",
       "      <td>4.26</td>\n",
       "      <td>2.80</td>\n",
       "      <td>4.57</td>\n",
       "      <td>0.65</td>\n",
       "      <td>2.23</td>\n",
       "    </tr>\n",
       "    <tr>\n",
       "      <th>Карлсон</th>\n",
       "      <td>8.00</td>\n",
       "      <td>7.91</td>\n",
       "      <td>19.19</td>\n",
       "      <td>9.00</td>\n",
       "      <td>12.05</td>\n",
       "      <td>10.70</td>\n",
       "      <td>8.54</td>\n",
       "      <td>11.07</td>\n",
       "      <td>1.37</td>\n",
       "      <td>7.00</td>\n",
       "    </tr>\n",
       "  </tbody>\n",
       "</table>\n",
       "</div>"
      ],
      "text/plain": [
       "               Андрей   Аня  Алиса  Ваня   Леша  Оксана  Саша   Паша  Сеня  \\\n",
       "Фантазия         3.44  3.96   7.96  4.06   4.75    4.68  4.00   4.77  0.55   \n",
       "ВАЛЛ-И           3.58  3.92   8.06  1.97   4.00    3.96  3.79   6.00  0.49   \n",
       "Пиноккио         2.80  0.28   8.00  2.00   6.02    3.28  1.51   4.00  0.63   \n",
       "Бемби            1.09  1.86   2.36  2.57   1.56    2.00  1.74   1.00  0.18   \n",
       "Шрэк             5.09  4.97  11.96  3.72   6.73    6.00  5.17   8.00  0.79   \n",
       "Дамбо            3.30  2.88   7.99  2.68   4.83    4.00  3.20   5.00  0.55   \n",
       "Спасатели        1.43  4.00   2.00  2.24  -0.01    2.17  3.00   2.11  0.06   \n",
       "Геркулес         2.60  2.90   6.06  3.05   3.66    3.53  2.97   3.59  0.42   \n",
       "Кунг-фу Панда    3.31  2.00   8.63  3.30   6.00    4.26  2.80   4.57  0.65   \n",
       "Карлсон          8.00  7.91  19.19  9.00  12.05   10.70  8.54  11.07  1.37   \n",
       "\n",
       "               Гриша  \n",
       "Фантазия        3.30  \n",
       "ВАЛЛ-И          3.73  \n",
       "Пиноккио        1.21  \n",
       "Бемби           1.16  \n",
       "Шрэк            4.79  \n",
       "Дамбо           2.85  \n",
       "Спасатели       2.64  \n",
       "Геркулес        2.44  \n",
       "Кунг-фу Панда   2.23  \n",
       "Карлсон         7.00  "
      ]
     },
     "execution_count": 17,
     "metadata": {},
     "output_type": "execute_result"
    }
   ],
   "source": [
    "pd.DataFrame(cap_R, movies, users)"
   ]
  }
 ],
 "metadata": {
  "kernelspec": {
   "display_name": "Python 3 (ipykernel)",
   "language": "python",
   "name": "python3"
  },
  "language_info": {
   "codemirror_mode": {
    "name": "ipython",
    "version": 3
   },
   "file_extension": ".py",
   "mimetype": "text/x-python",
   "name": "python",
   "nbconvert_exporter": "python",
   "pygments_lexer": "ipython3",
   "version": "3.9.7"
  }
 },
 "nbformat": 4,
 "nbformat_minor": 5
}
