{
 "cells": [
  {
   "cell_type": "markdown",
   "id": "ee1e937d",
   "metadata": {},
   "source": [
    "# Рекомендательные системы на основе SVD алгоритма"
   ]
  },
  {
   "cell_type": "markdown",
   "id": "33925fba",
   "metadata": {},
   "source": [
    "**Collaborative Filtering** - подход, основанный на отношениях между пользователями и товаром, при этом нет никакой информации о пользователях или товарах. \n",
    "\n",
    "* Пример явного взаимодействия: рейтинг между пользователям и товарами.\n",
    "* Неявного: клик, просмотр или покупка не очевидны с точки зрения рейтинга.\n",
    "\n",
    "**User-item matrix** (матрица пользователь-товар) - это таблица, в которой каждая строка представляет собой пользователя, каждый столбец - товар, а каждая ячейка содержит информацию о взаимодействии между пользователем и товаром. Например, в ячейке может быть указано количество раз, которое пользователь купил товар, или оценка, которую пользователь поставил товару. User-item matrix используется в рекомендательных системах для определения предпочтений пользователей и предложения им наиболее подходящих товаров.\n",
    "\n",
    "Далее, $R$ - user-item matrix.\n",
    "\n",
    "**Singular Value Decomposition (SVD)** \n",
    "\n",
    "Можно применить [матричную факторизацию](https://translated.turbopages.org/proxy_u/en-ru.ru.0832cecd-64b5506e-d08cf623-74722d776562/https/en.wikipedia.org/wiki/Matrix_factorization_(recommender_systems)). Часто, матричная факторизация применяется в области уменьшения размерности, где мы пытаемся уменьшить количество элементов, сохраняя при этом соответсующую информацию. Так дело обстоит с [основным компонентным анализом (PCA)](https://ru.wikipedia.org/wiki/Метод_главных_компонент) и очень похожим [разложение по сингулярному значению (SVD)](https://ru.wikipedia.org/wiki/Сингулярное_разложение).\n",
    "\n",
    "$$R_{m \\times n} = U_{m \\times m} \\Sigma_{m \\times n} V^{T}_{n \\times n} $$\n",
    "\n",
    "где $\\Sigma$  — диагональная матрица с неотрицательными сингулярными числами, $U$ и $V$ - ортогональные матрицы и $U^T U = I$.\n",
    "\n",
    "При этом, матрица $R$ - очень большая и разряженная. \n",
    "\n",
    "**Метод главных компонент ([principal component analysis (PSA)](https://ru.wikipedia.org/wiki/Метод_главных_компонент))** — один из основных способов уменьшить размерность данных, потеряв наименьшее количество информации. \n",
    "Вычисление главных компонент может быть сведено к вычислению SVD разложения матрицы данных или к вычислению собственных векторов и собственных значений ковариационной матрицы исходных данных. \n",
    "\n",
    "Математическое содержание метода главных компонент — это SVD разложение ковариационной матрицы $R$, то есть представление пространства данных в виде суммы взаимно ортогональных собственных подпространств $R$, а самой матрицы $R$ — в виде линейной комбинации ортогональных проекторов на эти подпространства с коэффициентами $\\lambda_i$. \n",
    "\n",
    "Оставив $d$-первых (главных) компонент ($\\lambda_i$) в SVD разложении, получим наиболее точное приближение к $R$ по норме Фробениуса.  \n",
    " \n",
    "$ R_{m \\times n} = P_{m \\times n} Q_{n \\times n} $\n",
    "\n",
    "$ P = S_{m \\times m} V_{m \\times n} $ \n",
    "\n",
    "$ Q = D^{T}_{n \\times n} $\n",
    "\n",
    "$P$ и $Q$ - взаимно ортогональные собственные подпространства $R$.\n",
    "\n",
    "Тогда $i$-aя строка $U$ - это представление $i$-го пльзователя, а $j$-ый столбец $V$ - представленте $j$-го товара. Их отношение (рейтинг) выражается с помощью скалярного произведения:\n",
    "\n",
    "$$R[i][j] = \\langle U[i, :], V[:, j] \\rangle $$\n",
    "\n",
    "Матрицы $U$ и $Q$ найдем с помощью градиентного спуска. \n",
    "\n",
    "В качестве $Loss$ возьмем $RMSE$:\n",
    "\n",
    "$$ \n",
    "    RMSE = \\frac{1}{\\lvert D \\rvert} \\sum_{(i,j) \\in D} (\\hat{R}_{i, j} - R_{i, j})^2 = \n",
    "    \\frac{1}{\\lvert D \\rvert} \\sum_{(i, j) \\in D} (P_{i} \\cdot Q_{j} - R_{i, j})^2\n",
    "$$\n",
    "\n",
    "Посчитав градиенты по $P$ и по $Q$, получим формулы обновления весов:\n",
    "\n",
    "<!-- $\\nabla RMSE_p = \\frac{d}{dp}RMSE = \\frac{1}{\\lvert D \\rvert} \\cdot 2 \\cdot \\sum_{(u,m) \\in D} (\\hat{r}_{u,m} - r_{u,m}) \\cdot q $\n",
    "\n",
    "$ \\nabla RMSE_q = \\frac{d}{dq}RMSE = \\frac{1}{\\lvert D \\rvert} \\cdot 2 \\cdot \\sum_{(u,m) \\in D} (\\hat{r}_{u,m} - r_{u,m}) \\cdot p $ -->\n",
    "\n",
    "$\\begin{cases}\n",
    "    P[i][k] = P[i][k] - \\frac{2}{\\lvert D \\rvert} \\cdot \\sum_{(i,j) \\in D} (\\hat{R}_{i,j} - R_{i,j}) \\cdot Q[k][i]\n",
    "    \\\\\n",
    "    Q[k][i] = Q[k][i] - \\frac{2}{\\lvert D \\rvert} \\cdot \\sum_{(i,j) \\in D} (\\hat{R}_{i,j} - R_{i,j}) \\cdot P[i][k]\n",
    "\\end{cases}\n",
    "\\text{   ,   } k \\in {1, d} $"
   ]
  },
  {
   "cell_type": "code",
   "execution_count": 1,
   "id": "43e972a2",
   "metadata": {},
   "outputs": [],
   "source": [
    "import numpy as np\n",
    "import pandas as pd\n",
    "%matplotlib inline"
   ]
  },
  {
   "cell_type": "code",
   "execution_count": 2,
   "id": "48c3dfff",
   "metadata": {},
   "outputs": [],
   "source": [
    "k = 10 # максимальная оценка\n",
    "\n",
    "movies = ['Фантазия', 'ВАЛЛ-И', 'Пиноккио', 'Бемби' , 'Шрэк', 'Дамбо', 'Спасатели', 'Геркулес', 'Кунг-фу Панда', 'Карлсон']\n",
    "m_movies = len(movies)\n",
    "\n",
    "users = ['Андрей', 'Аня', 'Алиса', 'Ваня', 'Леша', 'Оксана', 'Саша', 'Паша', 'Сеня', 'Гриша']        \n",
    "n_users = len(users)\n",
    "\n",
    "RANDOMSEED = 42\n",
    "np.random.seed(42)\n",
    "\n",
    "N = np.random.randint(15, 40)\n",
    "ind_movies = [np.random.randint(0, m_movies) for _ in range(N)]\n",
    "ind_users = [np.random.randint(0, n_users) for _ in range(N)]\n",
    "rating = [np.random.randint(1, k) for _ in range(N)]"
   ]
  },
  {
   "cell_type": "code",
   "execution_count": 3,
   "id": "fbbe5300",
   "metadata": {},
   "outputs": [
    {
     "data": {
      "text/plain": [
       "[3, 7, 4, 6, 9, 2, 6, 7, 4, 3, 7, 7, 2, 5, 4, 1, 7, 5, 1, 4, 0]"
      ]
     },
     "execution_count": 3,
     "metadata": {},
     "output_type": "execute_result"
    }
   ],
   "source": [
    "ind_movies"
   ]
  },
  {
   "cell_type": "code",
   "execution_count": 4,
   "id": "6d63eaf6",
   "metadata": {},
   "outputs": [
    {
     "data": {
      "text/plain": [
       "[9, 5, 8, 0, 9, 2, 6, 3, 8, 2, 4, 2, 6, 4, 8, 6, 1, 3, 8, 1, 9]"
      ]
     },
     "execution_count": 4,
     "metadata": {},
     "output_type": "execute_result"
    }
   ],
   "source": [
    "ind_users"
   ]
  },
  {
   "cell_type": "code",
   "execution_count": 5,
   "id": "5a76d640",
   "metadata": {},
   "outputs": [
    {
     "data": {
      "text/plain": [
       "[9, 5, 2, 4, 7, 8, 3, 1, 4, 2, 8, 4, 2, 6, 6, 4, 6, 2, 2, 4, 8]"
      ]
     },
     "execution_count": 5,
     "metadata": {},
     "output_type": "execute_result"
    }
   ],
   "source": [
    "rating"
   ]
  },
  {
   "cell_type": "code",
   "execution_count": 6,
   "id": "a892ce4f",
   "metadata": {
    "scrolled": true
   },
   "outputs": [
    {
     "data": {
      "text/html": [
       "<div>\n",
       "<style scoped>\n",
       "    .dataframe tbody tr th:only-of-type {\n",
       "        vertical-align: middle;\n",
       "    }\n",
       "\n",
       "    .dataframe tbody tr th {\n",
       "        vertical-align: top;\n",
       "    }\n",
       "\n",
       "    .dataframe thead th {\n",
       "        text-align: right;\n",
       "    }\n",
       "</style>\n",
       "<table border=\"1\" class=\"dataframe\">\n",
       "  <thead>\n",
       "    <tr style=\"text-align: right;\">\n",
       "      <th></th>\n",
       "      <th>Андрей</th>\n",
       "      <th>Аня</th>\n",
       "      <th>Алиса</th>\n",
       "      <th>Ваня</th>\n",
       "      <th>Леша</th>\n",
       "      <th>Оксана</th>\n",
       "      <th>Саша</th>\n",
       "      <th>Паша</th>\n",
       "      <th>Сеня</th>\n",
       "      <th>Гриша</th>\n",
       "    </tr>\n",
       "  </thead>\n",
       "  <tbody>\n",
       "    <tr>\n",
       "      <th>Фантазия</th>\n",
       "      <td>0</td>\n",
       "      <td>0</td>\n",
       "      <td>0</td>\n",
       "      <td>0</td>\n",
       "      <td>0</td>\n",
       "      <td>0</td>\n",
       "      <td>4</td>\n",
       "      <td>0</td>\n",
       "      <td>0</td>\n",
       "      <td>0</td>\n",
       "    </tr>\n",
       "    <tr>\n",
       "      <th>ВАЛЛ-И</th>\n",
       "      <td>0</td>\n",
       "      <td>0</td>\n",
       "      <td>0</td>\n",
       "      <td>0</td>\n",
       "      <td>4</td>\n",
       "      <td>0</td>\n",
       "      <td>0</td>\n",
       "      <td>6</td>\n",
       "      <td>0</td>\n",
       "      <td>0</td>\n",
       "    </tr>\n",
       "    <tr>\n",
       "      <th>Пиноккио</th>\n",
       "      <td>0</td>\n",
       "      <td>0</td>\n",
       "      <td>8</td>\n",
       "      <td>2</td>\n",
       "      <td>0</td>\n",
       "      <td>0</td>\n",
       "      <td>0</td>\n",
       "      <td>4</td>\n",
       "      <td>0</td>\n",
       "      <td>0</td>\n",
       "    </tr>\n",
       "    <tr>\n",
       "      <th>Бемби</th>\n",
       "      <td>0</td>\n",
       "      <td>0</td>\n",
       "      <td>0</td>\n",
       "      <td>0</td>\n",
       "      <td>0</td>\n",
       "      <td>2</td>\n",
       "      <td>0</td>\n",
       "      <td>1</td>\n",
       "      <td>0</td>\n",
       "      <td>0</td>\n",
       "    </tr>\n",
       "    <tr>\n",
       "      <th>Шрэк</th>\n",
       "      <td>0</td>\n",
       "      <td>0</td>\n",
       "      <td>0</td>\n",
       "      <td>0</td>\n",
       "      <td>0</td>\n",
       "      <td>6</td>\n",
       "      <td>0</td>\n",
       "      <td>8</td>\n",
       "      <td>0</td>\n",
       "      <td>0</td>\n",
       "    </tr>\n",
       "    <tr>\n",
       "      <th>Дамбо</th>\n",
       "      <td>0</td>\n",
       "      <td>0</td>\n",
       "      <td>0</td>\n",
       "      <td>0</td>\n",
       "      <td>0</td>\n",
       "      <td>0</td>\n",
       "      <td>0</td>\n",
       "      <td>5</td>\n",
       "      <td>0</td>\n",
       "      <td>0</td>\n",
       "    </tr>\n",
       "    <tr>\n",
       "      <th>Спасатели</th>\n",
       "      <td>0</td>\n",
       "      <td>4</td>\n",
       "      <td>2</td>\n",
       "      <td>0</td>\n",
       "      <td>0</td>\n",
       "      <td>0</td>\n",
       "      <td>3</td>\n",
       "      <td>0</td>\n",
       "      <td>0</td>\n",
       "      <td>0</td>\n",
       "    </tr>\n",
       "    <tr>\n",
       "      <th>Геркулес</th>\n",
       "      <td>0</td>\n",
       "      <td>0</td>\n",
       "      <td>0</td>\n",
       "      <td>0</td>\n",
       "      <td>0</td>\n",
       "      <td>0</td>\n",
       "      <td>0</td>\n",
       "      <td>0</td>\n",
       "      <td>0</td>\n",
       "      <td>0</td>\n",
       "    </tr>\n",
       "    <tr>\n",
       "      <th>Кунг-фу Панда</th>\n",
       "      <td>0</td>\n",
       "      <td>2</td>\n",
       "      <td>0</td>\n",
       "      <td>0</td>\n",
       "      <td>6</td>\n",
       "      <td>0</td>\n",
       "      <td>0</td>\n",
       "      <td>0</td>\n",
       "      <td>0</td>\n",
       "      <td>0</td>\n",
       "    </tr>\n",
       "    <tr>\n",
       "      <th>Карлсон</th>\n",
       "      <td>8</td>\n",
       "      <td>0</td>\n",
       "      <td>0</td>\n",
       "      <td>9</td>\n",
       "      <td>0</td>\n",
       "      <td>0</td>\n",
       "      <td>0</td>\n",
       "      <td>0</td>\n",
       "      <td>0</td>\n",
       "      <td>7</td>\n",
       "    </tr>\n",
       "  </tbody>\n",
       "</table>\n",
       "</div>"
      ],
      "text/plain": [
       "               Андрей  Аня  Алиса  Ваня  Леша  Оксана  Саша  Паша  Сеня  Гриша\n",
       "Фантазия            0    0      0     0     0       0     4     0     0      0\n",
       "ВАЛЛ-И              0    0      0     0     4       0     0     6     0      0\n",
       "Пиноккио            0    0      8     2     0       0     0     4     0      0\n",
       "Бемби               0    0      0     0     0       2     0     1     0      0\n",
       "Шрэк                0    0      0     0     0       6     0     8     0      0\n",
       "Дамбо               0    0      0     0     0       0     0     5     0      0\n",
       "Спасатели           0    4      2     0     0       0     3     0     0      0\n",
       "Геркулес            0    0      0     0     0       0     0     0     0      0\n",
       "Кунг-фу Панда       0    2      0     0     6       0     0     0     0      0\n",
       "Карлсон             8    0      0     9     0       0     0     0     0      7"
      ]
     },
     "execution_count": 6,
     "metadata": {},
     "output_type": "execute_result"
    }
   ],
   "source": [
    "def get_user_item_matrix(n_users, m_movies, ind_users, ind_movies, rating):\n",
    "    R = [[0] * m_movies for _ in range(n_users)]\n",
    "    N = len(ind_users)\n",
    "    for i in range(N):\n",
    "        R[ind_users[i]][ind_movies[i]] = rating[i]\n",
    "    R = np.array(R)\n",
    "    return R\n",
    "\n",
    "R = get_user_item_matrix(n_users, m_movies, ind_users, ind_movies, rating)\n",
    "\n",
    "pd.DataFrame(R, movies, users)"
   ]
  },
  {
   "cell_type": "code",
   "execution_count": 7,
   "id": "827babbe",
   "metadata": {},
   "outputs": [],
   "source": [
    "def MSE(R, U, V):\n",
    "    mse = 0\n",
    "    for ind in range(N):\n",
    "        i = ind_users[ind]\n",
    "        j = ind_movies[ind]\n",
    "        mse += ( R[i][j] - np.dot(U[i,:], V[:,j]) )**2 / N\n",
    "    return mse"
   ]
  },
  {
   "cell_type": "code",
   "execution_count": 8,
   "id": "211e6d95",
   "metadata": {},
   "outputs": [],
   "source": [
    "def SVD(ind_users, ind_movies, R, d, step, n_iters):\n",
    "    \n",
    "    # инициализация матриц разложения\n",
    "    U = np.random.rand(R.shape[0], d)\n",
    "    V = np.random.rand(d, R.shape[1])\n",
    "\n",
    "    start_mse = MSE(R, U, V)\n",
    "    \n",
    "    for n in range(n_iters):\n",
    "        ind = np.random.randint(0, N)\n",
    "        i = ind_users[ind]\n",
    "        j = ind_movies[ind]\n",
    "        \n",
    "        for k in range(0, d):\n",
    "            U[i, k] = U[i, k] + step * (R[i][j] - np.dot(U[i, :], V[:, j])) * V[k, j] \n",
    "            V[k, j] = V[k, j] + step * (R[i][j] - np.dot(U[i, :], V[:, j])) * U[i, k] \n",
    "\n",
    "        mse = MSE(R, U, V)\n",
    "    return U, V, start_mse, mse"
   ]
  },
  {
   "cell_type": "code",
   "execution_count": 9,
   "id": "aa5342b2",
   "metadata": {},
   "outputs": [],
   "source": [
    "U, V, start_mse, mse = SVD(ind_users, ind_movies, R, 3, 0.1, 3000) "
   ]
  },
  {
   "cell_type": "code",
   "execution_count": 10,
   "id": "f49f3744",
   "metadata": {},
   "outputs": [
    {
     "data": {
      "text/plain": [
       "array([[ 1.14925335,  0.88815964,  1.28628278],\n",
       "       [ 0.57882653,  1.94198177,  0.69771869],\n",
       "       [ 2.53474404,  0.56804522, -0.93485506],\n",
       "       [ 0.3704904 , -0.16867209,  1.05388538],\n",
       "       [ 1.55206751,  2.16957811,  0.85723033],\n",
       "       [ 1.33365791,  1.18894038,  0.42200087],\n",
       "       [-0.97242016,  0.72281182,  2.01041876],\n",
       "       [ 0.92630088,  0.65107703,  0.91495968],\n",
       "       [ 2.15831628,  0.66739268,  0.06101079],\n",
       "       [ 3.4193753 ,  1.93082125,  2.14906612]])"
      ]
     },
     "execution_count": 10,
     "metadata": {},
     "output_type": "execute_result"
    }
   ],
   "source": [
    "U"
   ]
  },
  {
   "cell_type": "code",
   "execution_count": 11,
   "id": "8eee959c",
   "metadata": {},
   "outputs": [
    {
     "data": {
      "text/plain": [
       "array([[ 1.13902333,  0.49589526,  3.13577084,  1.51022004,  2.43299874,\n",
       "         1.61478736,  0.90118881,  1.35917061,  0.25606832,  0.58638664],\n",
       "       [ 1.20469557,  1.22963668,  2.65392918, -0.11313503,  1.04946214,\n",
       "         1.02028505,  1.13741072,  2.37850328,  0.13933145,  1.34705423],\n",
       "       [ 0.82791748,  1.78740018,  1.55738422,  1.88647772,  0.7935608 ,\n",
       "         1.49336078,  1.5191865 ,  0.85172746,  0.10549426,  1.11397325]])"
      ]
     },
     "execution_count": 11,
     "metadata": {},
     "output_type": "execute_result"
    }
   ],
   "source": [
    "V"
   ]
  },
  {
   "cell_type": "code",
   "execution_count": 12,
   "id": "9576fd4b",
   "metadata": {},
   "outputs": [
    {
     "data": {
      "text/plain": [
       "0"
      ]
     },
     "execution_count": 12,
     "metadata": {},
     "output_type": "execute_result"
    }
   ],
   "source": [
    "R[1][2]"
   ]
  },
  {
   "cell_type": "code",
   "execution_count": 13,
   "id": "8d95dc34",
   "metadata": {},
   "outputs": [
    {
     "data": {
      "text/plain": [
       "8.055565517055356"
      ]
     },
     "execution_count": 13,
     "metadata": {},
     "output_type": "execute_result"
    }
   ],
   "source": [
    "np.dot(U[1,:], V[:,2])"
   ]
  },
  {
   "cell_type": "code",
   "execution_count": 14,
   "id": "cb15b3c1",
   "metadata": {},
   "outputs": [
    {
     "data": {
      "text/plain": [
       "(21.37688033760675, 4.97897320664505e-09)"
      ]
     },
     "execution_count": 14,
     "metadata": {},
     "output_type": "execute_result"
    }
   ],
   "source": [
    "start_mse, mse"
   ]
  },
  {
   "cell_type": "code",
   "execution_count": 15,
   "id": "cf9acf97",
   "metadata": {},
   "outputs": [
    {
     "data": {
      "text/plain": [
       "array([[ 3.4,  4. ,  8. ,  4.1,  4.7,  4.7,  4. ,  4.8,  0.6,  3.3],\n",
       "       [ 3.6,  3.9,  8.1,  2. ,  4. ,  4. ,  3.8,  6. ,  0.5,  3.7],\n",
       "       [ 2.8,  0.3,  8. ,  2. ,  6. ,  3.3,  1.5,  4. ,  0.6,  1.2],\n",
       "       [ 1.1,  1.9,  2.4,  2.6,  1.6,  2. ,  1.7,  1. ,  0.2,  1.2],\n",
       "       [ 5.1,  5. , 12. ,  3.7,  6.7,  6. ,  5.2,  8. ,  0.8,  4.8],\n",
       "       [ 3.3,  2.9,  8. ,  2.7,  4.8,  4. ,  3.2,  5. ,  0.6,  2.9],\n",
       "       [ 1.4,  4. ,  2. ,  2.2, -0. ,  2.2,  3. ,  2.1,  0.1,  2.6],\n",
       "       [ 2.6,  2.9,  6.1,  3.1,  3.7,  3.5,  3. ,  3.6,  0.4,  2.4],\n",
       "       [ 3.3,  2. ,  8.6,  3.3,  6. ,  4.3,  2.8,  4.6,  0.7,  2.2],\n",
       "       [ 8. ,  7.9, 19.2,  9. , 12.1, 10.7,  8.5, 11.1,  1.4,  7. ]])"
      ]
     },
     "execution_count": 15,
     "metadata": {},
     "output_type": "execute_result"
    }
   ],
   "source": [
    "cap_R = np.zeros((R.shape[0], R.shape[1]))\n",
    "\n",
    "for i in range(n_users):\n",
    "    for j in range(m_movies):\n",
    "        cap_R[i][j] = round(np.dot(U[i,:], V[:,j]), 1)\n",
    "cap_R"
   ]
  },
  {
   "cell_type": "code",
   "execution_count": 16,
   "id": "497c8cce",
   "metadata": {},
   "outputs": [
    {
     "data": {
      "text/html": [
       "<div>\n",
       "<style scoped>\n",
       "    .dataframe tbody tr th:only-of-type {\n",
       "        vertical-align: middle;\n",
       "    }\n",
       "\n",
       "    .dataframe tbody tr th {\n",
       "        vertical-align: top;\n",
       "    }\n",
       "\n",
       "    .dataframe thead th {\n",
       "        text-align: right;\n",
       "    }\n",
       "</style>\n",
       "<table border=\"1\" class=\"dataframe\">\n",
       "  <thead>\n",
       "    <tr style=\"text-align: right;\">\n",
       "      <th></th>\n",
       "      <th>Андрей</th>\n",
       "      <th>Аня</th>\n",
       "      <th>Алиса</th>\n",
       "      <th>Ваня</th>\n",
       "      <th>Леша</th>\n",
       "      <th>Оксана</th>\n",
       "      <th>Саша</th>\n",
       "      <th>Паша</th>\n",
       "      <th>Сеня</th>\n",
       "      <th>Гриша</th>\n",
       "    </tr>\n",
       "  </thead>\n",
       "  <tbody>\n",
       "    <tr>\n",
       "      <th>Фантазия</th>\n",
       "      <td>3.4</td>\n",
       "      <td>4.0</td>\n",
       "      <td>8.0</td>\n",
       "      <td>4.1</td>\n",
       "      <td>4.7</td>\n",
       "      <td>4.7</td>\n",
       "      <td>4.0</td>\n",
       "      <td>4.8</td>\n",
       "      <td>0.6</td>\n",
       "      <td>3.3</td>\n",
       "    </tr>\n",
       "    <tr>\n",
       "      <th>ВАЛЛ-И</th>\n",
       "      <td>3.6</td>\n",
       "      <td>3.9</td>\n",
       "      <td>8.1</td>\n",
       "      <td>2.0</td>\n",
       "      <td>4.0</td>\n",
       "      <td>4.0</td>\n",
       "      <td>3.8</td>\n",
       "      <td>6.0</td>\n",
       "      <td>0.5</td>\n",
       "      <td>3.7</td>\n",
       "    </tr>\n",
       "    <tr>\n",
       "      <th>Пиноккио</th>\n",
       "      <td>2.8</td>\n",
       "      <td>0.3</td>\n",
       "      <td>8.0</td>\n",
       "      <td>2.0</td>\n",
       "      <td>6.0</td>\n",
       "      <td>3.3</td>\n",
       "      <td>1.5</td>\n",
       "      <td>4.0</td>\n",
       "      <td>0.6</td>\n",
       "      <td>1.2</td>\n",
       "    </tr>\n",
       "    <tr>\n",
       "      <th>Бемби</th>\n",
       "      <td>1.1</td>\n",
       "      <td>1.9</td>\n",
       "      <td>2.4</td>\n",
       "      <td>2.6</td>\n",
       "      <td>1.6</td>\n",
       "      <td>2.0</td>\n",
       "      <td>1.7</td>\n",
       "      <td>1.0</td>\n",
       "      <td>0.2</td>\n",
       "      <td>1.2</td>\n",
       "    </tr>\n",
       "    <tr>\n",
       "      <th>Шрэк</th>\n",
       "      <td>5.1</td>\n",
       "      <td>5.0</td>\n",
       "      <td>12.0</td>\n",
       "      <td>3.7</td>\n",
       "      <td>6.7</td>\n",
       "      <td>6.0</td>\n",
       "      <td>5.2</td>\n",
       "      <td>8.0</td>\n",
       "      <td>0.8</td>\n",
       "      <td>4.8</td>\n",
       "    </tr>\n",
       "    <tr>\n",
       "      <th>Дамбо</th>\n",
       "      <td>3.3</td>\n",
       "      <td>2.9</td>\n",
       "      <td>8.0</td>\n",
       "      <td>2.7</td>\n",
       "      <td>4.8</td>\n",
       "      <td>4.0</td>\n",
       "      <td>3.2</td>\n",
       "      <td>5.0</td>\n",
       "      <td>0.6</td>\n",
       "      <td>2.9</td>\n",
       "    </tr>\n",
       "    <tr>\n",
       "      <th>Спасатели</th>\n",
       "      <td>1.4</td>\n",
       "      <td>4.0</td>\n",
       "      <td>2.0</td>\n",
       "      <td>2.2</td>\n",
       "      <td>-0.0</td>\n",
       "      <td>2.2</td>\n",
       "      <td>3.0</td>\n",
       "      <td>2.1</td>\n",
       "      <td>0.1</td>\n",
       "      <td>2.6</td>\n",
       "    </tr>\n",
       "    <tr>\n",
       "      <th>Геркулес</th>\n",
       "      <td>2.6</td>\n",
       "      <td>2.9</td>\n",
       "      <td>6.1</td>\n",
       "      <td>3.1</td>\n",
       "      <td>3.7</td>\n",
       "      <td>3.5</td>\n",
       "      <td>3.0</td>\n",
       "      <td>3.6</td>\n",
       "      <td>0.4</td>\n",
       "      <td>2.4</td>\n",
       "    </tr>\n",
       "    <tr>\n",
       "      <th>Кунг-фу Панда</th>\n",
       "      <td>3.3</td>\n",
       "      <td>2.0</td>\n",
       "      <td>8.6</td>\n",
       "      <td>3.3</td>\n",
       "      <td>6.0</td>\n",
       "      <td>4.3</td>\n",
       "      <td>2.8</td>\n",
       "      <td>4.6</td>\n",
       "      <td>0.7</td>\n",
       "      <td>2.2</td>\n",
       "    </tr>\n",
       "    <tr>\n",
       "      <th>Карлсон</th>\n",
       "      <td>8.0</td>\n",
       "      <td>7.9</td>\n",
       "      <td>19.2</td>\n",
       "      <td>9.0</td>\n",
       "      <td>12.1</td>\n",
       "      <td>10.7</td>\n",
       "      <td>8.5</td>\n",
       "      <td>11.1</td>\n",
       "      <td>1.4</td>\n",
       "      <td>7.0</td>\n",
       "    </tr>\n",
       "  </tbody>\n",
       "</table>\n",
       "</div>"
      ],
      "text/plain": [
       "               Андрей  Аня  Алиса  Ваня  Леша  Оксана  Саша  Паша  Сеня  Гриша\n",
       "Фантазия          3.4  4.0    8.0   4.1   4.7     4.7   4.0   4.8   0.6    3.3\n",
       "ВАЛЛ-И            3.6  3.9    8.1   2.0   4.0     4.0   3.8   6.0   0.5    3.7\n",
       "Пиноккио          2.8  0.3    8.0   2.0   6.0     3.3   1.5   4.0   0.6    1.2\n",
       "Бемби             1.1  1.9    2.4   2.6   1.6     2.0   1.7   1.0   0.2    1.2\n",
       "Шрэк              5.1  5.0   12.0   3.7   6.7     6.0   5.2   8.0   0.8    4.8\n",
       "Дамбо             3.3  2.9    8.0   2.7   4.8     4.0   3.2   5.0   0.6    2.9\n",
       "Спасатели         1.4  4.0    2.0   2.2  -0.0     2.2   3.0   2.1   0.1    2.6\n",
       "Геркулес          2.6  2.9    6.1   3.1   3.7     3.5   3.0   3.6   0.4    2.4\n",
       "Кунг-фу Панда     3.3  2.0    8.6   3.3   6.0     4.3   2.8   4.6   0.7    2.2\n",
       "Карлсон           8.0  7.9   19.2   9.0  12.1    10.7   8.5  11.1   1.4    7.0"
      ]
     },
     "execution_count": 16,
     "metadata": {},
     "output_type": "execute_result"
    }
   ],
   "source": [
    "pd.DataFrame(cap_R, movies, users)"
   ]
  }
 ],
 "metadata": {
  "kernelspec": {
   "display_name": "Python 3 (ipykernel)",
   "language": "python",
   "name": "python3"
  },
  "language_info": {
   "codemirror_mode": {
    "name": "ipython",
    "version": 3
   },
   "file_extension": ".py",
   "mimetype": "text/x-python",
   "name": "python",
   "nbconvert_exporter": "python",
   "pygments_lexer": "ipython3",
   "version": "3.9.7"
  }
 },
 "nbformat": 4,
 "nbformat_minor": 5
}
