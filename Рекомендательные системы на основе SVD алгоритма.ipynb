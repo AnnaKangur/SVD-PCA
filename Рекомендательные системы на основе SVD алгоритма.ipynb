{
 "cells": [
  {
   "cell_type": "markdown",
   "id": "ee1e937d",
   "metadata": {},
   "source": [
    "# Рекомендательные системы на основе SVD алгоритма"
   ]
  },
  {
   "cell_type": "markdown",
   "id": "33925fba",
   "metadata": {},
   "source": [
    "**Collaborative Filtering** - подход, основанный на отношениях между пользователями и товаром, при этом нет никакой информации о пользователях или товарах. \n",
    "\n",
    "* Пример явного взаимодействия: рейтинг между пользователям и товарами.\n",
    "* Неявного: клик, просмотр или покупка не очевидны с точки зрения рейтинга.\n",
    "\n",
    "**User-item matrix** (матрица пользователь-товар) - это таблица, в которой каждая строка представляет собой пользователя, каждый столбец - товар, а каждая ячейка содержит информацию о взаимодействии между пользователем и товаром. Например, в ячейке может быть указано количество раз, которое пользователь купил товар, или оценка, которую пользователь поставил товару. User-item matrix используется в рекомендательных системах для определения предпочтений пользователей и предложения им наиболее подходящих товаров.\n",
    "\n",
    "Далее, $R$ - user-item matrix.\n",
    "\n",
    "**Singular Value Decomposition (SVD)** \n",
    "\n",
    "Можно применить [матричную факторизацию](https://translated.turbopages.org/proxy_u/en-ru.ru.0832cecd-64b5506e-d08cf623-74722d776562/https/en.wikipedia.org/wiki/Matrix_factorization_(recommender_systems)). Часто, матричная факторизация применяется в области уменьшения размерности, где мы пытаемся уменьшить количество элементов, сохраняя при этом соответсующую информацию. Так дело обстоит с [основным компонентным анализом (PCA)](https://ru.wikipedia.org/wiki/Метод_главных_компонент) и очень похожим [разложение по сингулярному значению (SVD)](https://ru.wikipedia.org/wiki/Сингулярное_разложение).\n",
    "\n",
    "$$R_{m \\times n} = U_{m \\times m} \\Sigma_{m \\times n} V^{T}_{n \\times n} $$\n",
    "\n",
    "где $\\Sigma$  — диагональная матрица с неотрицательными сингулярными числами, $U$ и $V$ - ортогональные матрицы и $U^T U = I$.\n",
    "\n",
    "При этом, матрица $R$ - очень большая и разряженная. \n",
    "\n",
    "**Метод главных компонент ([principal component analysis (PSA)](https://ru.wikipedia.org/wiki/Метод_главных_компонент))** — один из основных способов уменьшить размерность данных, потеряв наименьшее количество информации. \n",
    "Вычисление главных компонент может быть сведено к вычислению SVD разложения матрицы данных или к вычислению собственных векторов и собственных значений ковариационной матрицы исходных данных. \n",
    "\n",
    "Математическое содержание метода главных компонент — это SVD разложение ковариационной матрицы $R$, то есть представление пространства данных в виде суммы взаимно ортогональных собственных подпространств $R$, а самой матрицы $R$ — в виде линейной комбинации ортогональных проекторов на эти подпространства с коэффициентами $\\lambda_i$. \n",
    "\n",
    "Оставив $d$-первых (главных) компонент ($\\lambda_i$) в SVD разложении, получим наиболее точное приближение к $R$ по норме Фробениуса.  \n",
    " \n",
    "$ R_{m \\times n} = U_{m \\times n} V_{n \\times n} $\n",
    "\n",
    "$ U = U_{m \\times m} \\Sigma_{m \\times d} $ \n",
    "\n",
    "$ V = V_{d \\times n}$\n",
    "\n",
    "$U$ и $V$ - взаимно ортогональные собственные подпространства $R$.\n",
    "\n",
    "Тогда $i$-aя строка $U$ - это представление $i$-го пльзователя, а $j$-ый столбец $V$ - представленте $j$-го товара. Их отношение (рейтинг) выражается с помощью скалярного произведения:\n",
    "\n",
    "$$R[i][j] = \\langle U[i, :], V[:, j] \\rangle $$\n",
    "\n",
    "Матрицы $ U $ и $ Q $ найдем с помощью градиентного спуска. \n",
    "\n",
    "В качестве $ Loss $ возьмем $ RMSE $:\n",
    "\n",
    "$$ \n",
    "    RMSE = \\frac{1}{\\lvert D \\rvert} \\sum_{(i,j) \\in D} (\\hat{R}_{i, j} - R_{i, j})^2 = \n",
    "    \\frac{1}{\\lvert D \\rvert} \\sum_{(i, j) \\in D} (U_{i} \\cdot V_{j} - R_{i, j})^2\n",
    "$$\n",
    "\n",
    "Посчитав градиенты по $ U $ и по $ V $, получим формулы обновления весов:\n",
    "\n",
    "<!-- $\\nabla RMSE_p = \\frac{d}{dp}RMSE = \\frac{1}{\\lvert D \\rvert} \\cdot 2 \\cdot \\sum_{(u,m) \\in D} (\\hat{r}_{u,m} - r_{u,m}) \\cdot q $\n",
    "\n",
    "$ \\nabla RMSE_q = \\frac{d}{dq}RMSE = \\frac{1}{\\lvert D \\rvert} \\cdot 2 \\cdot \\sum_{(u,m) \\in D} (\\hat{r}_{u,m} - r_{u,m}) \\cdot p $ -->\n",
    "\n",
    "$\\begin{cases}\n",
    "    U[i][k] = U[i][k] - \\frac{2}{\\lvert D \\rvert} \\cdot \\sum_{(i,j) \\in D} (\\hat{R}_{i,j} - R_{i,j}) \\cdot V[k][i]\n",
    "    \\\\\n",
    "    V[k][i] = V[k][i] - \\frac{2}{\\lvert D \\rvert} \\cdot \\sum_{(i,j) \\in D} (\\hat{R}_{i,j} - R_{i,j}) \\cdot U[i][k]\n",
    "\\end{cases}\n",
    "\\text{   ,   } k \\in {1, d} $"
   ]
  },
  {
   "cell_type": "code",
   "execution_count": 1,
   "id": "43e972a2",
   "metadata": {},
   "outputs": [],
   "source": [
    "import numpy as np\n",
    "import pandas as pd\n",
    "%matplotlib inline"
   ]
  },
  {
   "cell_type": "code",
   "execution_count": 2,
   "id": "48c3dfff",
   "metadata": {},
   "outputs": [],
   "source": [
    "k = 10 # максимальная оценка\n",
    "\n",
    "movies = ['Фантазия', 'ВАЛЛ-И', 'Пиноккио', 'Бемби' , 'Шрэк', 'Дамбо', 'Спасатели', 'Геркулес', 'Кунг-фу Панда']\n",
    "m_movies = len(movies)\n",
    "\n",
    "users = ['Андрей', 'Аня', 'Алиса', 'Ваня', 'Леша', 'Оксана', 'Саша', 'Паша', 'Сеня', 'Гриша']        \n",
    "n_users = len(users)\n",
    "\n",
    "RANDOMSEED = 42\n",
    "np.random.seed(42)\n",
    "\n",
    "N = np.random.randint(20, 60)\n",
    "ind_movies = [np.random.randint(0, m_movies) for _ in range(N)]\n",
    "ind_users = [np.random.randint(0, n_users) for _ in range(N)]\n",
    "rating = [np.random.randint(1, k) for _ in range(N)]"
   ]
  },
  {
   "cell_type": "code",
   "execution_count": 3,
   "id": "65e2fb61",
   "metadata": {},
   "outputs": [
    {
     "name": "stdout",
     "output_type": "stream",
     "text": [
      "[3, 7, 4, 6, 2, 6, 7, 4, 3, 7, 7, 2, 5, 4, 1, 7, 5, 1, 4, 0, 5, 8, 0, 2, 6, 3, 8, 2, 4, 2, 6, 4, 8, 6, 1, 3, 8, 1, 8, 4, 1, 3, 6, 7, 2, 0, 3, 1, 7, 3, 1, 5, 5, 3, 5, 1, 1, 3]\n"
     ]
    }
   ],
   "source": [
    "print(ind_movies)"
   ]
  },
  {
   "cell_type": "code",
   "execution_count": 4,
   "id": "be8429cc",
   "metadata": {},
   "outputs": [
    {
     "name": "stdout",
     "output_type": "stream",
     "text": [
      "[7, 6, 8, 7, 4, 1, 4, 7, 9, 8, 8, 0, 8, 6, 8, 7, 0, 7, 7, 2, 0, 7, 2, 2, 0, 4, 9, 6, 9, 8, 6, 8, 7, 1, 0, 6, 6, 7, 4, 2, 7, 5, 2, 0, 2, 4, 2, 0, 4, 9, 6, 6, 8, 9, 9, 2, 6, 0]\n"
     ]
    }
   ],
   "source": [
    "print(ind_users)"
   ]
  },
  {
   "cell_type": "code",
   "execution_count": 5,
   "id": "204519bc",
   "metadata": {},
   "outputs": [
    {
     "name": "stdout",
     "output_type": "stream",
     "text": [
      "[4, 4, 5, 7, 7, 4, 7, 3, 6, 2, 9, 5, 6, 4, 7, 9, 7, 1, 1, 9, 9, 4, 9, 3, 7, 6, 8, 9, 5, 1, 3, 8, 6, 8, 9, 4, 1, 1, 4, 7, 2, 3, 1, 5, 1, 8, 1, 1, 2, 2, 6, 7, 5, 1, 1, 3, 2, 5]\n"
     ]
    }
   ],
   "source": [
    "print(rating)"
   ]
  },
  {
   "cell_type": "code",
   "execution_count": 6,
   "id": "b055b8bd",
   "metadata": {
    "scrolled": true
   },
   "outputs": [
    {
     "data": {
      "text/html": [
       "<div>\n",
       "<style scoped>\n",
       "    .dataframe tbody tr th:only-of-type {\n",
       "        vertical-align: middle;\n",
       "    }\n",
       "\n",
       "    .dataframe tbody tr th {\n",
       "        vertical-align: top;\n",
       "    }\n",
       "\n",
       "    .dataframe thead th {\n",
       "        text-align: right;\n",
       "    }\n",
       "</style>\n",
       "<table border=\"1\" class=\"dataframe\">\n",
       "  <thead>\n",
       "    <tr style=\"text-align: right;\">\n",
       "      <th></th>\n",
       "      <th>Фантазия</th>\n",
       "      <th>ВАЛЛ-И</th>\n",
       "      <th>Пиноккио</th>\n",
       "      <th>Бемби</th>\n",
       "      <th>Шрэк</th>\n",
       "      <th>Дамбо</th>\n",
       "      <th>Спасатели</th>\n",
       "      <th>Геркулес</th>\n",
       "      <th>Кунг-фу Панда</th>\n",
       "    </tr>\n",
       "  </thead>\n",
       "  <tbody>\n",
       "    <tr>\n",
       "      <th>Андрей</th>\n",
       "      <td>0</td>\n",
       "      <td>1</td>\n",
       "      <td>5</td>\n",
       "      <td>5</td>\n",
       "      <td>0</td>\n",
       "      <td>9</td>\n",
       "      <td>7</td>\n",
       "      <td>5</td>\n",
       "      <td>0</td>\n",
       "    </tr>\n",
       "    <tr>\n",
       "      <th>Аня</th>\n",
       "      <td>0</td>\n",
       "      <td>0</td>\n",
       "      <td>0</td>\n",
       "      <td>0</td>\n",
       "      <td>0</td>\n",
       "      <td>0</td>\n",
       "      <td>8</td>\n",
       "      <td>0</td>\n",
       "      <td>0</td>\n",
       "    </tr>\n",
       "    <tr>\n",
       "      <th>Алиса</th>\n",
       "      <td>9</td>\n",
       "      <td>3</td>\n",
       "      <td>1</td>\n",
       "      <td>1</td>\n",
       "      <td>7</td>\n",
       "      <td>0</td>\n",
       "      <td>1</td>\n",
       "      <td>0</td>\n",
       "      <td>0</td>\n",
       "    </tr>\n",
       "    <tr>\n",
       "      <th>Ваня</th>\n",
       "      <td>0</td>\n",
       "      <td>0</td>\n",
       "      <td>0</td>\n",
       "      <td>0</td>\n",
       "      <td>0</td>\n",
       "      <td>0</td>\n",
       "      <td>0</td>\n",
       "      <td>0</td>\n",
       "      <td>0</td>\n",
       "    </tr>\n",
       "    <tr>\n",
       "      <th>Леша</th>\n",
       "      <td>8</td>\n",
       "      <td>0</td>\n",
       "      <td>7</td>\n",
       "      <td>6</td>\n",
       "      <td>0</td>\n",
       "      <td>0</td>\n",
       "      <td>0</td>\n",
       "      <td>2</td>\n",
       "      <td>4</td>\n",
       "    </tr>\n",
       "    <tr>\n",
       "      <th>Оксана</th>\n",
       "      <td>0</td>\n",
       "      <td>0</td>\n",
       "      <td>0</td>\n",
       "      <td>3</td>\n",
       "      <td>0</td>\n",
       "      <td>0</td>\n",
       "      <td>0</td>\n",
       "      <td>0</td>\n",
       "      <td>0</td>\n",
       "    </tr>\n",
       "    <tr>\n",
       "      <th>Саша</th>\n",
       "      <td>0</td>\n",
       "      <td>2</td>\n",
       "      <td>9</td>\n",
       "      <td>4</td>\n",
       "      <td>4</td>\n",
       "      <td>7</td>\n",
       "      <td>3</td>\n",
       "      <td>4</td>\n",
       "      <td>1</td>\n",
       "    </tr>\n",
       "    <tr>\n",
       "      <th>Паша</th>\n",
       "      <td>0</td>\n",
       "      <td>2</td>\n",
       "      <td>0</td>\n",
       "      <td>4</td>\n",
       "      <td>1</td>\n",
       "      <td>0</td>\n",
       "      <td>7</td>\n",
       "      <td>9</td>\n",
       "      <td>6</td>\n",
       "    </tr>\n",
       "    <tr>\n",
       "      <th>Сеня</th>\n",
       "      <td>0</td>\n",
       "      <td>7</td>\n",
       "      <td>1</td>\n",
       "      <td>0</td>\n",
       "      <td>8</td>\n",
       "      <td>5</td>\n",
       "      <td>0</td>\n",
       "      <td>9</td>\n",
       "      <td>0</td>\n",
       "    </tr>\n",
       "    <tr>\n",
       "      <th>Гриша</th>\n",
       "      <td>0</td>\n",
       "      <td>0</td>\n",
       "      <td>0</td>\n",
       "      <td>1</td>\n",
       "      <td>5</td>\n",
       "      <td>1</td>\n",
       "      <td>0</td>\n",
       "      <td>0</td>\n",
       "      <td>8</td>\n",
       "    </tr>\n",
       "  </tbody>\n",
       "</table>\n",
       "</div>"
      ],
      "text/plain": [
       "        Фантазия  ВАЛЛ-И  Пиноккио  Бемби  Шрэк  Дамбо  Спасатели  Геркулес  \\\n",
       "Андрей         0       1         5      5     0      9          7         5   \n",
       "Аня            0       0         0      0     0      0          8         0   \n",
       "Алиса          9       3         1      1     7      0          1         0   \n",
       "Ваня           0       0         0      0     0      0          0         0   \n",
       "Леша           8       0         7      6     0      0          0         2   \n",
       "Оксана         0       0         0      3     0      0          0         0   \n",
       "Саша           0       2         9      4     4      7          3         4   \n",
       "Паша           0       2         0      4     1      0          7         9   \n",
       "Сеня           0       7         1      0     8      5          0         9   \n",
       "Гриша          0       0         0      1     5      1          0         0   \n",
       "\n",
       "        Кунг-фу Панда  \n",
       "Андрей              0  \n",
       "Аня                 0  \n",
       "Алиса               0  \n",
       "Ваня                0  \n",
       "Леша                4  \n",
       "Оксана              0  \n",
       "Саша                1  \n",
       "Паша                6  \n",
       "Сеня                0  \n",
       "Гриша               8  "
      ]
     },
     "execution_count": 6,
     "metadata": {},
     "output_type": "execute_result"
    }
   ],
   "source": [
    "def get_user_item_matrix(n_users, m_movies, ind_users, ind_movies, rating):\n",
    "    R = [[0] * m_movies for _ in range(n_users)]\n",
    "    N = len(ind_users)\n",
    "    for i in range(N):\n",
    "        R[ind_users[i]][ind_movies[i]] = rating[i]\n",
    "    R = np.array(R)\n",
    "    return R\n",
    "\n",
    "R = get_user_item_matrix(n_users, m_movies, ind_users, ind_movies, rating)\n",
    "\n",
    "pd.DataFrame(R, users, movies)"
   ]
  },
  {
   "cell_type": "code",
   "execution_count": 7,
   "id": "164bee2d",
   "metadata": {},
   "outputs": [],
   "source": [
    "def MSE(R, U, V):\n",
    "    mse = 0\n",
    "    for ind in range(N):\n",
    "        i = ind_users[ind]\n",
    "        j = ind_movies[ind]\n",
    "        mse += ( R[i][j] - np.dot(U[i,:], V[:,j]) )**2 / N\n",
    "    return mse"
   ]
  },
  {
   "cell_type": "code",
   "execution_count": 8,
   "id": "6b01973f",
   "metadata": {},
   "outputs": [],
   "source": [
    "def SVD(ind_users, ind_movies, R, d, step, n_iters):\n",
    "    \n",
    "    # инициализация матриц разложения\n",
    "    U = np.random.rand(R.shape[0], d)\n",
    "    V = np.random.rand(d, R.shape[1])\n",
    "\n",
    "    start_mse = MSE(R, U, V)\n",
    "    \n",
    "    for n in range(n_iters):\n",
    "        ind = np.random.randint(0, N)\n",
    "        i = ind_users[ind]\n",
    "        j = ind_movies[ind]\n",
    "        \n",
    "        for k in range(0, d):\n",
    "            U[i, k] = U[i, k] + step * (R[i][j] - np.dot(U[i, :], V[:, j])) * V[k, j] \n",
    "            V[k, j] = V[k, j] + step * (R[i][j] - np.dot(U[i, :], V[:, j])) * U[i, k] \n",
    "\n",
    "        mse = MSE(R, U, V)\n",
    "    return U, V, start_mse, mse"
   ]
  },
  {
   "cell_type": "code",
   "execution_count": 9,
   "id": "a496c1eb",
   "metadata": {},
   "outputs": [],
   "source": [
    "U, V, start_mse, mse = SVD(ind_users, ind_movies, R, 3, 0.1, 3000) "
   ]
  },
  {
   "cell_type": "code",
   "execution_count": 10,
   "id": "319e981f",
   "metadata": {},
   "outputs": [
    {
     "data": {
      "text/plain": [
       "array([[ 1.59507097e+00,  1.72612654e+00,  1.52339541e+00],\n",
       "       [ 1.37564070e+00,  2.37155072e+00,  5.65473065e-01],\n",
       "       [ 2.64594856e+00,  3.13163441e-01,  9.83491686e-03],\n",
       "       [ 6.33529711e-01,  5.35774684e-01,  9.02897701e-02],\n",
       "       [ 2.12139021e+00, -4.78727555e-04,  2.69803740e+00],\n",
       "       [ 9.63724489e-02,  8.21234247e-01,  9.69383422e-01],\n",
       "       [ 1.37629513e+00,  9.17312819e-01,  1.09177106e+00],\n",
       "       [ 8.77410525e-01,  1.97726763e+00,  1.23516733e+00],\n",
       "       [ 6.82853447e-01,  2.92020164e+00, -2.30772170e-01],\n",
       "       [ 1.01539658e+00, -9.17608418e-01,  7.63367674e-01]])"
      ]
     },
     "execution_count": 10,
     "metadata": {},
     "output_type": "execute_result"
    }
   ],
   "source": [
    "U"
   ]
  },
  {
   "cell_type": "code",
   "execution_count": 11,
   "id": "ec59d24d",
   "metadata": {},
   "outputs": [
    {
     "data": {
      "text/plain": [
       "array([[ 3.16227766,  0.69283784,  3.16227766,  0.22109154,  3.16227766,\n",
       "         3.16227766,  0.33523404, -0.06493694,  3.16227766],\n",
       "       [ 1.57063954,  2.01477781,  2.50489965,  0.9593538 ,  2.10017969,\n",
       "         2.72906909,  3.15316639,  3.1622776 ,  1.33026677],\n",
       "       [ 0.4943566 , -1.91429227,  2.15246234,  2.3155225 , -0.21616623,\n",
       "         0.38415414,  0.66757026,  0.82395472,  0.48178968]])"
      ]
     },
     "execution_count": 11,
     "metadata": {},
     "output_type": "execute_result"
    }
   ],
   "source": [
    "V"
   ]
  },
  {
   "cell_type": "code",
   "execution_count": 12,
   "id": "c37a8b06",
   "metadata": {},
   "outputs": [
    {
     "data": {
      "text/plain": [
       "0"
      ]
     },
     "execution_count": 12,
     "metadata": {},
     "output_type": "execute_result"
    }
   ],
   "source": [
    "R[1][2]"
   ]
  },
  {
   "cell_type": "code",
   "execution_count": 13,
   "id": "aeb3d9d2",
   "metadata": {},
   "outputs": [
    {
     "data": {
      "text/plain": [
       "11.507813915439094"
      ]
     },
     "execution_count": 13,
     "metadata": {},
     "output_type": "execute_result"
    }
   ],
   "source": [
    "np.dot(U[1,:], V[:,2])"
   ]
  },
  {
   "cell_type": "code",
   "execution_count": 14,
   "id": "418fa813",
   "metadata": {},
   "outputs": [
    {
     "data": {
      "text/plain": [
       "(23.33405679536876, 8.911327611150677)"
      ]
     },
     "execution_count": 14,
     "metadata": {},
     "output_type": "execute_result"
    }
   ],
   "source": [
    "start_mse, mse"
   ]
  },
  {
   "cell_type": "code",
   "execution_count": 15,
   "id": "aa1b74d8",
   "metadata": {},
   "outputs": [
    {
     "data": {
      "text/plain": [
       "array([[ 8.5,  1.7, 12.6,  5.5,  8.3, 10.3,  7. ,  6.6,  8.1],\n",
       "       [ 8.4,  4.6, 11.5,  3.9,  9.2, 11. ,  8.3,  7.9,  7.8],\n",
       "       [ 8.9,  2.4,  9.2,  0.9,  9. ,  9.2,  1.9,  0.8,  8.8],\n",
       "       [ 2.9,  1.3,  3.5,  0.9,  3.1,  3.5,  2. ,  1.7,  2.8],\n",
       "       [ 8. , -3.7, 12.5,  6.7,  6.1,  7.7,  2.5,  2.1,  8. ],\n",
       "       [ 2.1, -0.1,  4.4,  3.1,  1.8,  2.9,  3.3,  3.4,  1.9],\n",
       "       [ 6.3,  0.7,  9. ,  3.7,  6. ,  7.3,  4.1,  3.7,  6.1],\n",
       "       [ 6.5,  2.2, 10.4,  5. ,  6.7,  8.6,  7.4,  7.2,  6. ],\n",
       "       [ 6.6,  6.8,  9. ,  2.4,  8.3, 10. ,  9.3,  9. ,  5.9],\n",
       "       [ 2.1, -2.6,  2.6,  1.1,  1.1,  1. , -2. , -2.3,  2.4]])"
      ]
     },
     "execution_count": 15,
     "metadata": {},
     "output_type": "execute_result"
    }
   ],
   "source": [
    "cap_R = np.zeros((R.shape[0], R.shape[1]))\n",
    "\n",
    "for i in range(n_users):\n",
    "    for j in range(m_movies):\n",
    "        cap_R[i][j] = round(np.dot(U[i,:], V[:,j]), 1)\n",
    "cap_R"
   ]
  },
  {
   "cell_type": "code",
   "execution_count": 16,
   "id": "743bbdbb",
   "metadata": {},
   "outputs": [
    {
     "data": {
      "text/html": [
       "<div>\n",
       "<style scoped>\n",
       "    .dataframe tbody tr th:only-of-type {\n",
       "        vertical-align: middle;\n",
       "    }\n",
       "\n",
       "    .dataframe tbody tr th {\n",
       "        vertical-align: top;\n",
       "    }\n",
       "\n",
       "    .dataframe thead th {\n",
       "        text-align: right;\n",
       "    }\n",
       "</style>\n",
       "<table border=\"1\" class=\"dataframe\">\n",
       "  <thead>\n",
       "    <tr style=\"text-align: right;\">\n",
       "      <th></th>\n",
       "      <th>Фантазия</th>\n",
       "      <th>ВАЛЛ-И</th>\n",
       "      <th>Пиноккио</th>\n",
       "      <th>Бемби</th>\n",
       "      <th>Шрэк</th>\n",
       "      <th>Дамбо</th>\n",
       "      <th>Спасатели</th>\n",
       "      <th>Геркулес</th>\n",
       "      <th>Кунг-фу Панда</th>\n",
       "    </tr>\n",
       "  </thead>\n",
       "  <tbody>\n",
       "    <tr>\n",
       "      <th>Андрей</th>\n",
       "      <td>8.5</td>\n",
       "      <td>1.7</td>\n",
       "      <td>12.6</td>\n",
       "      <td>5.5</td>\n",
       "      <td>8.3</td>\n",
       "      <td>10.3</td>\n",
       "      <td>7.0</td>\n",
       "      <td>6.6</td>\n",
       "      <td>8.1</td>\n",
       "    </tr>\n",
       "    <tr>\n",
       "      <th>Аня</th>\n",
       "      <td>8.4</td>\n",
       "      <td>4.6</td>\n",
       "      <td>11.5</td>\n",
       "      <td>3.9</td>\n",
       "      <td>9.2</td>\n",
       "      <td>11.0</td>\n",
       "      <td>8.3</td>\n",
       "      <td>7.9</td>\n",
       "      <td>7.8</td>\n",
       "    </tr>\n",
       "    <tr>\n",
       "      <th>Алиса</th>\n",
       "      <td>8.9</td>\n",
       "      <td>2.4</td>\n",
       "      <td>9.2</td>\n",
       "      <td>0.9</td>\n",
       "      <td>9.0</td>\n",
       "      <td>9.2</td>\n",
       "      <td>1.9</td>\n",
       "      <td>0.8</td>\n",
       "      <td>8.8</td>\n",
       "    </tr>\n",
       "    <tr>\n",
       "      <th>Ваня</th>\n",
       "      <td>2.9</td>\n",
       "      <td>1.3</td>\n",
       "      <td>3.5</td>\n",
       "      <td>0.9</td>\n",
       "      <td>3.1</td>\n",
       "      <td>3.5</td>\n",
       "      <td>2.0</td>\n",
       "      <td>1.7</td>\n",
       "      <td>2.8</td>\n",
       "    </tr>\n",
       "    <tr>\n",
       "      <th>Леша</th>\n",
       "      <td>8.0</td>\n",
       "      <td>-3.7</td>\n",
       "      <td>12.5</td>\n",
       "      <td>6.7</td>\n",
       "      <td>6.1</td>\n",
       "      <td>7.7</td>\n",
       "      <td>2.5</td>\n",
       "      <td>2.1</td>\n",
       "      <td>8.0</td>\n",
       "    </tr>\n",
       "    <tr>\n",
       "      <th>Оксана</th>\n",
       "      <td>2.1</td>\n",
       "      <td>-0.1</td>\n",
       "      <td>4.4</td>\n",
       "      <td>3.1</td>\n",
       "      <td>1.8</td>\n",
       "      <td>2.9</td>\n",
       "      <td>3.3</td>\n",
       "      <td>3.4</td>\n",
       "      <td>1.9</td>\n",
       "    </tr>\n",
       "    <tr>\n",
       "      <th>Саша</th>\n",
       "      <td>6.3</td>\n",
       "      <td>0.7</td>\n",
       "      <td>9.0</td>\n",
       "      <td>3.7</td>\n",
       "      <td>6.0</td>\n",
       "      <td>7.3</td>\n",
       "      <td>4.1</td>\n",
       "      <td>3.7</td>\n",
       "      <td>6.1</td>\n",
       "    </tr>\n",
       "    <tr>\n",
       "      <th>Паша</th>\n",
       "      <td>6.5</td>\n",
       "      <td>2.2</td>\n",
       "      <td>10.4</td>\n",
       "      <td>5.0</td>\n",
       "      <td>6.7</td>\n",
       "      <td>8.6</td>\n",
       "      <td>7.4</td>\n",
       "      <td>7.2</td>\n",
       "      <td>6.0</td>\n",
       "    </tr>\n",
       "    <tr>\n",
       "      <th>Сеня</th>\n",
       "      <td>6.6</td>\n",
       "      <td>6.8</td>\n",
       "      <td>9.0</td>\n",
       "      <td>2.4</td>\n",
       "      <td>8.3</td>\n",
       "      <td>10.0</td>\n",
       "      <td>9.3</td>\n",
       "      <td>9.0</td>\n",
       "      <td>5.9</td>\n",
       "    </tr>\n",
       "    <tr>\n",
       "      <th>Гриша</th>\n",
       "      <td>2.1</td>\n",
       "      <td>-2.6</td>\n",
       "      <td>2.6</td>\n",
       "      <td>1.1</td>\n",
       "      <td>1.1</td>\n",
       "      <td>1.0</td>\n",
       "      <td>-2.0</td>\n",
       "      <td>-2.3</td>\n",
       "      <td>2.4</td>\n",
       "    </tr>\n",
       "  </tbody>\n",
       "</table>\n",
       "</div>"
      ],
      "text/plain": [
       "        Фантазия  ВАЛЛ-И  Пиноккио  Бемби  Шрэк  Дамбо  Спасатели  Геркулес  \\\n",
       "Андрей       8.5     1.7      12.6    5.5   8.3   10.3        7.0       6.6   \n",
       "Аня          8.4     4.6      11.5    3.9   9.2   11.0        8.3       7.9   \n",
       "Алиса        8.9     2.4       9.2    0.9   9.0    9.2        1.9       0.8   \n",
       "Ваня         2.9     1.3       3.5    0.9   3.1    3.5        2.0       1.7   \n",
       "Леша         8.0    -3.7      12.5    6.7   6.1    7.7        2.5       2.1   \n",
       "Оксана       2.1    -0.1       4.4    3.1   1.8    2.9        3.3       3.4   \n",
       "Саша         6.3     0.7       9.0    3.7   6.0    7.3        4.1       3.7   \n",
       "Паша         6.5     2.2      10.4    5.0   6.7    8.6        7.4       7.2   \n",
       "Сеня         6.6     6.8       9.0    2.4   8.3   10.0        9.3       9.0   \n",
       "Гриша        2.1    -2.6       2.6    1.1   1.1    1.0       -2.0      -2.3   \n",
       "\n",
       "        Кунг-фу Панда  \n",
       "Андрей            8.1  \n",
       "Аня               7.8  \n",
       "Алиса             8.8  \n",
       "Ваня              2.8  \n",
       "Леша              8.0  \n",
       "Оксана            1.9  \n",
       "Саша              6.1  \n",
       "Паша              6.0  \n",
       "Сеня              5.9  \n",
       "Гриша             2.4  "
      ]
     },
     "execution_count": 16,
     "metadata": {},
     "output_type": "execute_result"
    }
   ],
   "source": [
    "pd.DataFrame(cap_R, users, movies)"
   ]
  }
 ],
 "metadata": {
  "kernelspec": {
   "display_name": "Python 3 (ipykernel)",
   "language": "python",
   "name": "python3"
  },
  "language_info": {
   "codemirror_mode": {
    "name": "ipython",
    "version": 3
   },
   "file_extension": ".py",
   "mimetype": "text/x-python",
   "name": "python",
   "nbconvert_exporter": "python",
   "pygments_lexer": "ipython3",
   "version": "3.9.7"
  }
 },
 "nbformat": 4,
 "nbformat_minor": 5
}
